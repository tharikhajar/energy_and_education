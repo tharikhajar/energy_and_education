{
 "cells": [
  {
   "cell_type": "code",
   "execution_count": null,
   "metadata": {},
   "outputs": [],
   "source": []
  },
  {
   "cell_type": "code",
   "execution_count": 11,
   "metadata": {},
   "outputs": [
    {
     "name": "stdout",
     "output_type": "stream",
     "text": [
      "(17432, 11)\n",
      "(15688, 11)\n"
     ]
    }
   ],
   "source": [
    "import pandas as pd\n",
    "import copy\n",
    "\n",
    "# Keeping original dataset with another name for development convinience \n",
    "df_import = pd.read_csv('../Datasets\\energy_data.csv')\n",
    "\n",
    "# As the dataset has a lot of columns, it is good to start slicing it by \n",
    "# some key word in thei names, if possible\n",
    "dim_cols = ['iso_code', 'country', 'year']\n",
    "measure_cols = [col for col in df_import.columns if 'consumption' in col]\n",
    "\n",
    "# Some consumption cols, such as renewable are aggregates of others\n",
    "# So we will have to remove that manually\n",
    "cols_to_remove = [\n",
    "    'low_carbon_consumption', 'fossil_fuel_consumption',\n",
    "     'other_renewable_consumption', 'primary_energy_consumption',\n",
    "      'renewables_consumption'\n",
    "      ]\n",
    "\n",
    "measure_cols = [col for col in measure_cols if col not in cols_to_remove]\n",
    "cols_to_keep = copy.copy(dim_cols)\n",
    "cols_to_keep.extend(measure_cols)\n",
    "\n",
    "# Short generic name as we will use only one dataset here\n",
    "df = df_import[cols_to_keep]\n",
    "\n",
    "# As we have many aggregates of countries\n",
    "# We need to drop them as to not duplicate data\n",
    "entities_to_drop = [\n",
    "    'World', 'Africa', 'Asia Pacific',\n",
    "    'CIS', 'Central America', 'Eastern Africa',\n",
    "    'Europe', 'Europe (other)', 'Middle Africa',\n",
    "    'Middle East', 'Netherlands Antilles', 'North America',\n",
    "    'OPEC', 'Other Asia & Pacific', 'Other CIS', \n",
    "    'Other Caribbean', 'Other Middle East', 'Other Northern Africa',\n",
    "    'Other South America', 'Other Southern Africa', 'South & Central America',\n",
    "    'South Africa', 'Western Africa', 'Western Sahara'\n",
    "    ]\n",
    "\n",
    "df = df[~df['country'].isin(entities_to_drop)]\n"
   ]
  },
  {
   "cell_type": "code",
   "execution_count": 12,
   "metadata": {},
   "outputs": [],
   "source": [
    "df_melt = df.melt(\n",
    "    id_vars=dim_cols, value_vars=measure_cols,\n",
    "    var_name='energy_source', value_name='consumption'\n",
    ")\n",
    "\n",
    "\n",
    "#df_melt[df_melt['consumption'].isna()].groupby('year').count()"
   ]
  },
  {
   "cell_type": "code",
   "execution_count": 43,
   "metadata": {},
   "outputs": [],
   "source": [
    "df['country'].drop_duplicates().to_csv('countries.csv')\n"
   ]
  },
  {
   "cell_type": "code",
   "execution_count": 13,
   "metadata": {},
   "outputs": [],
   "source": [
    "df_melt.to_csv('test.csv')"
   ]
  },
  {
   "cell_type": "code",
   "execution_count": 6,
   "metadata": {},
   "outputs": [
    {
     "data": {
      "text/plain": [
       "0           Afghanistan\n",
       "120              Africa\n",
       "240             Albania\n",
       "360             Algeria\n",
       "480      American Samoa\n",
       "              ...      \n",
       "16904             World\n",
       "17025             Yemen\n",
       "17075        Yugoslavia\n",
       "17192            Zambia\n",
       "17312          Zimbabwe\n",
       "Name: country, Length: 242, dtype: object"
      ]
     },
     "execution_count": 6,
     "metadata": {},
     "output_type": "execute_result"
    }
   ],
   "source": [
    "df['country'].drop_duplicates()"
   ]
  },
  {
   "cell_type": "code",
   "execution_count": 10,
   "metadata": {},
   "outputs": [
    {
     "data": {
      "text/html": [
       "<div>\n",
       "<style scoped>\n",
       "    .dataframe tbody tr th:only-of-type {\n",
       "        vertical-align: middle;\n",
       "    }\n",
       "\n",
       "    .dataframe tbody tr th {\n",
       "        vertical-align: top;\n",
       "    }\n",
       "\n",
       "    .dataframe thead th {\n",
       "        text-align: right;\n",
       "    }\n",
       "</style>\n",
       "<table border=\"1\" class=\"dataframe\">\n",
       "  <thead>\n",
       "    <tr style=\"text-align: right;\">\n",
       "      <th></th>\n",
       "      <th>iso_code</th>\n",
       "      <th>country</th>\n",
       "      <th>year</th>\n",
       "      <th>biofuel_consumption</th>\n",
       "      <th>coal_consumption</th>\n",
       "      <th>gas_consumption</th>\n",
       "      <th>hydro_consumption</th>\n",
       "      <th>nuclear_consumption</th>\n",
       "      <th>oil_consumption</th>\n",
       "      <th>solar_consumption</th>\n",
       "      <th>wind_consumption</th>\n",
       "    </tr>\n",
       "  </thead>\n",
       "  <tbody>\n",
       "  </tbody>\n",
       "</table>\n",
       "</div>"
      ],
      "text/plain": [
       "Empty DataFrame\n",
       "Columns: [iso_code, country, year, biofuel_consumption, coal_consumption, gas_consumption, hydro_consumption, nuclear_consumption, oil_consumption, solar_consumption, wind_consumption]\n",
       "Index: []"
      ]
     },
     "execution_count": 10,
     "metadata": {},
     "output_type": "execute_result"
    }
   ],
   "source": [
    "df[df['country'].isin([entities_to_drop])]"
   ]
  },
  {
   "cell_type": "code",
   "execution_count": 19,
   "metadata": {},
   "outputs": [
    {
     "data": {
      "text/plain": [
       "58    Curaçao\n",
       "Name: official_name_en, dtype: object"
      ]
     },
     "execution_count": 19,
     "metadata": {},
     "output_type": "execute_result"
    }
   ],
   "source": [
    "countries = pd.read_csv(r'C:\\Users\\thari\\OneDrive\\DataScience\\DataSets\\Socio_Economical\\dim_country.csv')\n",
    "countries['official_name_en'][countries['ISO3166-1-Alpha-3'] == 'CUW']"
   ]
  },
  {
   "cell_type": "code",
   "execution_count": null,
   "metadata": {},
   "outputs": [],
   "source": []
  }
 ],
 "metadata": {
  "interpreter": {
   "hash": "929d62977bf2d888c36311be9d0accb34e312f263bdc0e4da1ad618d3be921c5"
  },
  "kernelspec": {
   "display_name": "Python 3.7.9 64-bit ('base': conda)",
   "language": "python",
   "name": "python3"
  },
  "language_info": {
   "codemirror_mode": {
    "name": "ipython",
    "version": 3
   },
   "file_extension": ".py",
   "mimetype": "text/x-python",
   "name": "python",
   "nbconvert_exporter": "python",
   "pygments_lexer": "ipython3",
   "version": "3.7.9"
  },
  "orig_nbformat": 4
 },
 "nbformat": 4,
 "nbformat_minor": 2
}
